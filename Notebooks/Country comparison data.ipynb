{
 "cells": [
  {
   "cell_type": "code",
   "execution_count": 1,
   "id": "9257b3d4",
   "metadata": {},
   "outputs": [],
   "source": [
    "import mechanize\n",
    "import http.cookiejar\n",
    "from bs4 import BeautifulSoup\n",
    "import re\n",
    "\n",
    "import pandas as pd\n",
    "import time"
   ]
  },
  {
   "cell_type": "code",
   "execution_count": 86,
   "id": "19999b76",
   "metadata": {},
   "outputs": [],
   "source": [
    "# Browser\n",
    "br = mechanize.Browser()\n",
    "\n",
    "# Cookie Jar\n",
    "cj = http.cookiejar.LWPCookieJar()\n",
    "br.set_cookiejar(cj)\n",
    "\n",
    "# Browser options\n",
    "br.set_handle_equiv(True)\n",
    "br.set_handle_gzip(True)\n",
    "br.set_handle_redirect(True)\n",
    "br.set_handle_referer(True)\n",
    "br.set_handle_robots(False)\n",
    "br.set_handle_refresh(mechanize._http.HTTPRefreshProcessor(), max_time=1)\n",
    "\n",
    "br.addheaders = [('User-agent', 'Chrome')]"
   ]
  },
  {
   "cell_type": "code",
   "execution_count": 95,
   "id": "fdfc6e31",
   "metadata": {},
   "outputs": [
    {
     "name": "stdout",
     "output_type": "stream",
     "text": [
      "Loaded: Area\n",
      "Loaded: Population\n",
      "Loaded: Median age\n",
      "Loaded: Population growth rate\n",
      "Loaded: Birth rate\n",
      "Loaded: Death rate\n",
      "Loaded: Net migration rate\n",
      "Loaded: Maternal mortality ratio\n",
      "Loaded: Infant mortality rate\n",
      "Loaded: Life expectancy at birth\n",
      "Loaded: Total fertility rate\n",
      "Loaded: HIV/AIDS – adult prevalence rate\n",
      "Loaded: Obesity – adult prevalence rate\n",
      "Loaded: Alcohol consumption per capita\n",
      "Loaded: Tobacco use\n",
      "Loaded: Children under the age of 5 years underweight\n",
      "Loaded: Education expenditures\n",
      "Loaded: Youth unemployment rate (ages 15-24)\n",
      "Loaded: Revenue from forest resources\n",
      "Loaded: Revenue from coal\n",
      "Loaded: Real GDP (purchasing power parity)\n",
      "Loaded: Real GDP growth rate\n",
      "Loaded: Real GDP per capita\n",
      "Loaded: Inflation rate (consumer prices)\n",
      "Loaded: Industrial production growth rate\n",
      "Loaded: Labor force\n",
      "Loaded: Unemployment rate\n",
      "Loaded: Gini Index coefficient – distribution of family income\n",
      "Loaded: Budget surplus (+) or deficit (-)\n",
      "Loaded: Public debt\n",
      "Loaded: Taxes and other revenues\n",
      "Loaded: Current account balance\n",
      "Loaded: Exports\n",
      "Loaded: Imports\n",
      "Loaded: Reserves of foreign exchange and gold\n",
      "Loaded: Debt – external\n",
      "Loaded: Refined petroleum products – production\n",
      "Loaded: Refined petroleum products – exports\n",
      "Loaded: Refined petroleum products – imports\n",
      "Loaded: Carbon dioxide emissions\n",
      "Loaded: Energy consumption per capita\n",
      "Loaded: Telephones – fixed lines\n",
      "Loaded: Telephones – mobile cellular\n",
      "Loaded: Internet users\n",
      "Loaded: Broadband – fixed subscriptions\n",
      "Loaded: Airports\n",
      "Loaded: Railways\n",
      "Loaded: Roadways\n",
      "Loaded: Waterways\n",
      "Loaded: Merchant marine\n",
      "Loaded: Military expenditures\n"
     ]
    }
   ],
   "source": [
    "# URL to load\n",
    "url = 'https://www.cia.gov/the-world-factbook/references/guide-to-country-comparisons/'\n",
    "\n",
    "# Loaded html\n",
    "html = br.open(url).read()\n",
    "\n",
    "# Read html with Beautiful Soup\n",
    "soup = BeautifulSoup(html, 'html.parser')\n",
    "\n",
    "# Load country names\n",
    "country_comparison_data = pd.read_excel('../Data/countries.xlsx', engine='openpyxl')\n",
    "\n",
    "for link in soup.find_all(class_='link-button bold'):\n",
    "    \n",
    "    # update url\n",
    "    url = 'https://www.cia.gov' + link.get('href')\n",
    "    \n",
    "    # Loaded html\n",
    "    html = br.open(url).read()\n",
    "\n",
    "    # Read html with Beautiful Soup\n",
    "    soup = BeautifulSoup(html, 'html.parser')\n",
    "    \n",
    "    # Data title\n",
    "    data_title = soup.find(class_='hero-title').text\n",
    "    \n",
    "    if data_title in country_comparison_data.columns:\n",
    "        continue\n",
    "    \n",
    "    # List of countries\n",
    "    countries = [value.text for value in soup.find_all(class_='text-button content-table-link')]\n",
    "\n",
    "    # List of data\n",
    "    elements = soup.find_all(class_='text-button content-table-link')\n",
    "    data = [float(re.sub('[^\\d\\-.]', '', value.parent.next_sibling.text)) for value in elements]\n",
    "    \n",
    "    # Add data to countries dataframe\n",
    "    df = pd.DataFrame({'country': countries, data_title: data})\n",
    "    country_comparison_data = country_comparison_data.join(df.set_index('country'), on='Country')\n",
    "    \n",
    "    print('Loaded:', data_title)"
   ]
  },
  {
   "cell_type": "code",
   "execution_count": 105,
   "id": "c06f1051",
   "metadata": {},
   "outputs": [],
   "source": [
    "pd.set_option('display.max_rows', 300)"
   ]
  },
  {
   "cell_type": "code",
   "execution_count": 115,
   "id": "6a750ae7",
   "metadata": {},
   "outputs": [],
   "source": [
    "country_comparison_data.to_excel('../Data/country_comparison_data.xlsx', index=False)"
   ]
  }
 ],
 "metadata": {
  "kernelspec": {
   "display_name": "Python 3 (ipykernel)",
   "language": "python",
   "name": "python3"
  },
  "language_info": {
   "codemirror_mode": {
    "name": "ipython",
    "version": 3
   },
   "file_extension": ".py",
   "mimetype": "text/x-python",
   "name": "python",
   "nbconvert_exporter": "python",
   "pygments_lexer": "ipython3",
   "version": "3.11.0"
  }
 },
 "nbformat": 4,
 "nbformat_minor": 5
}
